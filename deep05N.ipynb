{
  "nbformat": 4,
  "nbformat_minor": 0,
  "metadata": {
    "colab": {
      "provenance": []
    },
    "kernelspec": {
      "name": "python3",
      "display_name": "Python 3"
    },
    "language_info": {
      "name": "python"
    }
  },
  "cells": [
    {
      "cell_type": "code",
      "execution_count": 1,
      "metadata": {
        "id": "TRmIahwhkhCU"
      },
      "outputs": [],
      "source": [
        "import numpy as np\n",
        "import matplotlib.pyplot as plt\n",
        "import pandas as pd\n",
        "from sklearn.preprocessing import MinMaxScaler\n",
        "from keras import layers\n",
        "from keras.models import Sequential\n"
      ]
    },
    {
      "cell_type": "code",
      "source": [
        "\n",
        "dataset_train = pd.read_csv('trainset.csv')"
      ],
      "metadata": {
        "id": "-XxsBELFkrK9"
      },
      "execution_count": 2,
      "outputs": []
    },
    {
      "cell_type": "code",
      "source": [
        "\n",
        "dataset_train.columns"
      ],
      "metadata": {
        "colab": {
          "base_uri": "https://localhost:8080/"
        },
        "id": "JbrTtBkPktcH",
        "outputId": "63975f02-dc94-466f-db41-757665f44b53"
      },
      "execution_count": 3,
      "outputs": [
        {
          "output_type": "execute_result",
          "data": {
            "text/plain": [
              "Index(['Date', 'Open', 'High', 'Low', 'Close', 'Adj Close', 'Volume'], dtype='object')"
            ]
          },
          "metadata": {},
          "execution_count": 3
        }
      ]
    },
    {
      "cell_type": "code",
      "source": [
        "\n",
        "dataset_train.head()"
      ],
      "metadata": {
        "colab": {
          "base_uri": "https://localhost:8080/",
          "height": 206
        },
        "id": "EWQ9YLSkkvOK",
        "outputId": "fe66608e-83e0-408b-8309-187eeaf4352a"
      },
      "execution_count": 4,
      "outputs": [
        {
          "output_type": "execute_result",
          "data": {
            "text/plain": [
              "         Date        Open        High         Low       Close   Adj Close  \\\n",
              "0  2013-01-02  357.385559  361.151062  355.959839  359.288177  359.288177   \n",
              "1  2013-01-03  360.122742  363.600128  358.031342  359.496826  359.496826   \n",
              "2  2013-01-04  362.313507  368.339294  361.488861  366.600616  366.600616   \n",
              "3  2013-01-07  365.348755  367.301056  362.929504  365.001007  365.001007   \n",
              "4  2013-01-08  365.393463  365.771027  359.874359  364.280701  364.280701   \n",
              "\n",
              "    Volume  \n",
              "0  5115500  \n",
              "1  4666500  \n",
              "2  5562800  \n",
              "3  3332900  \n",
              "4  3373900  "
            ],
            "text/html": [
              "\n",
              "  <div id=\"df-9ad7752b-7231-4d61-9121-98fda3d460a2\" class=\"colab-df-container\">\n",
              "    <div>\n",
              "<style scoped>\n",
              "    .dataframe tbody tr th:only-of-type {\n",
              "        vertical-align: middle;\n",
              "    }\n",
              "\n",
              "    .dataframe tbody tr th {\n",
              "        vertical-align: top;\n",
              "    }\n",
              "\n",
              "    .dataframe thead th {\n",
              "        text-align: right;\n",
              "    }\n",
              "</style>\n",
              "<table border=\"1\" class=\"dataframe\">\n",
              "  <thead>\n",
              "    <tr style=\"text-align: right;\">\n",
              "      <th></th>\n",
              "      <th>Date</th>\n",
              "      <th>Open</th>\n",
              "      <th>High</th>\n",
              "      <th>Low</th>\n",
              "      <th>Close</th>\n",
              "      <th>Adj Close</th>\n",
              "      <th>Volume</th>\n",
              "    </tr>\n",
              "  </thead>\n",
              "  <tbody>\n",
              "    <tr>\n",
              "      <th>0</th>\n",
              "      <td>2013-01-02</td>\n",
              "      <td>357.385559</td>\n",
              "      <td>361.151062</td>\n",
              "      <td>355.959839</td>\n",
              "      <td>359.288177</td>\n",
              "      <td>359.288177</td>\n",
              "      <td>5115500</td>\n",
              "    </tr>\n",
              "    <tr>\n",
              "      <th>1</th>\n",
              "      <td>2013-01-03</td>\n",
              "      <td>360.122742</td>\n",
              "      <td>363.600128</td>\n",
              "      <td>358.031342</td>\n",
              "      <td>359.496826</td>\n",
              "      <td>359.496826</td>\n",
              "      <td>4666500</td>\n",
              "    </tr>\n",
              "    <tr>\n",
              "      <th>2</th>\n",
              "      <td>2013-01-04</td>\n",
              "      <td>362.313507</td>\n",
              "      <td>368.339294</td>\n",
              "      <td>361.488861</td>\n",
              "      <td>366.600616</td>\n",
              "      <td>366.600616</td>\n",
              "      <td>5562800</td>\n",
              "    </tr>\n",
              "    <tr>\n",
              "      <th>3</th>\n",
              "      <td>2013-01-07</td>\n",
              "      <td>365.348755</td>\n",
              "      <td>367.301056</td>\n",
              "      <td>362.929504</td>\n",
              "      <td>365.001007</td>\n",
              "      <td>365.001007</td>\n",
              "      <td>3332900</td>\n",
              "    </tr>\n",
              "    <tr>\n",
              "      <th>4</th>\n",
              "      <td>2013-01-08</td>\n",
              "      <td>365.393463</td>\n",
              "      <td>365.771027</td>\n",
              "      <td>359.874359</td>\n",
              "      <td>364.280701</td>\n",
              "      <td>364.280701</td>\n",
              "      <td>3373900</td>\n",
              "    </tr>\n",
              "  </tbody>\n",
              "</table>\n",
              "</div>\n",
              "    <div class=\"colab-df-buttons\">\n",
              "\n",
              "  <div class=\"colab-df-container\">\n",
              "    <button class=\"colab-df-convert\" onclick=\"convertToInteractive('df-9ad7752b-7231-4d61-9121-98fda3d460a2')\"\n",
              "            title=\"Convert this dataframe to an interactive table.\"\n",
              "            style=\"display:none;\">\n",
              "\n",
              "  <svg xmlns=\"http://www.w3.org/2000/svg\" height=\"24px\" viewBox=\"0 -960 960 960\">\n",
              "    <path d=\"M120-120v-720h720v720H120Zm60-500h600v-160H180v160Zm220 220h160v-160H400v160Zm0 220h160v-160H400v160ZM180-400h160v-160H180v160Zm440 0h160v-160H620v160ZM180-180h160v-160H180v160Zm440 0h160v-160H620v160Z\"/>\n",
              "  </svg>\n",
              "    </button>\n",
              "\n",
              "  <style>\n",
              "    .colab-df-container {\n",
              "      display:flex;\n",
              "      gap: 12px;\n",
              "    }\n",
              "\n",
              "    .colab-df-convert {\n",
              "      background-color: #E8F0FE;\n",
              "      border: none;\n",
              "      border-radius: 50%;\n",
              "      cursor: pointer;\n",
              "      display: none;\n",
              "      fill: #1967D2;\n",
              "      height: 32px;\n",
              "      padding: 0 0 0 0;\n",
              "      width: 32px;\n",
              "    }\n",
              "\n",
              "    .colab-df-convert:hover {\n",
              "      background-color: #E2EBFA;\n",
              "      box-shadow: 0px 1px 2px rgba(60, 64, 67, 0.3), 0px 1px 3px 1px rgba(60, 64, 67, 0.15);\n",
              "      fill: #174EA6;\n",
              "    }\n",
              "\n",
              "    .colab-df-buttons div {\n",
              "      margin-bottom: 4px;\n",
              "    }\n",
              "\n",
              "    [theme=dark] .colab-df-convert {\n",
              "      background-color: #3B4455;\n",
              "      fill: #D2E3FC;\n",
              "    }\n",
              "\n",
              "    [theme=dark] .colab-df-convert:hover {\n",
              "      background-color: #434B5C;\n",
              "      box-shadow: 0px 1px 3px 1px rgba(0, 0, 0, 0.15);\n",
              "      filter: drop-shadow(0px 1px 2px rgba(0, 0, 0, 0.3));\n",
              "      fill: #FFFFFF;\n",
              "    }\n",
              "  </style>\n",
              "\n",
              "    <script>\n",
              "      const buttonEl =\n",
              "        document.querySelector('#df-9ad7752b-7231-4d61-9121-98fda3d460a2 button.colab-df-convert');\n",
              "      buttonEl.style.display =\n",
              "        google.colab.kernel.accessAllowed ? 'block' : 'none';\n",
              "\n",
              "      async function convertToInteractive(key) {\n",
              "        const element = document.querySelector('#df-9ad7752b-7231-4d61-9121-98fda3d460a2');\n",
              "        const dataTable =\n",
              "          await google.colab.kernel.invokeFunction('convertToInteractive',\n",
              "                                                    [key], {});\n",
              "        if (!dataTable) return;\n",
              "\n",
              "        const docLinkHtml = 'Like what you see? Visit the ' +\n",
              "          '<a target=\"_blank\" href=https://colab.research.google.com/notebooks/data_table.ipynb>data table notebook</a>'\n",
              "          + ' to learn more about interactive tables.';\n",
              "        element.innerHTML = '';\n",
              "        dataTable['output_type'] = 'display_data';\n",
              "        await google.colab.output.renderOutput(dataTable, element);\n",
              "        const docLink = document.createElement('div');\n",
              "        docLink.innerHTML = docLinkHtml;\n",
              "        element.appendChild(docLink);\n",
              "      }\n",
              "    </script>\n",
              "  </div>\n",
              "\n",
              "\n",
              "<div id=\"df-ebefd035-6d2f-4268-9e2f-ebff16481c77\">\n",
              "  <button class=\"colab-df-quickchart\" onclick=\"quickchart('df-ebefd035-6d2f-4268-9e2f-ebff16481c77')\"\n",
              "            title=\"Suggest charts.\"\n",
              "            style=\"display:none;\">\n",
              "\n",
              "<svg xmlns=\"http://www.w3.org/2000/svg\" height=\"24px\"viewBox=\"0 0 24 24\"\n",
              "     width=\"24px\">\n",
              "    <g>\n",
              "        <path d=\"M19 3H5c-1.1 0-2 .9-2 2v14c0 1.1.9 2 2 2h14c1.1 0 2-.9 2-2V5c0-1.1-.9-2-2-2zM9 17H7v-7h2v7zm4 0h-2V7h2v10zm4 0h-2v-4h2v4z\"/>\n",
              "    </g>\n",
              "</svg>\n",
              "  </button>\n",
              "\n",
              "<style>\n",
              "  .colab-df-quickchart {\n",
              "      --bg-color: #E8F0FE;\n",
              "      --fill-color: #1967D2;\n",
              "      --hover-bg-color: #E2EBFA;\n",
              "      --hover-fill-color: #174EA6;\n",
              "      --disabled-fill-color: #AAA;\n",
              "      --disabled-bg-color: #DDD;\n",
              "  }\n",
              "\n",
              "  [theme=dark] .colab-df-quickchart {\n",
              "      --bg-color: #3B4455;\n",
              "      --fill-color: #D2E3FC;\n",
              "      --hover-bg-color: #434B5C;\n",
              "      --hover-fill-color: #FFFFFF;\n",
              "      --disabled-bg-color: #3B4455;\n",
              "      --disabled-fill-color: #666;\n",
              "  }\n",
              "\n",
              "  .colab-df-quickchart {\n",
              "    background-color: var(--bg-color);\n",
              "    border: none;\n",
              "    border-radius: 50%;\n",
              "    cursor: pointer;\n",
              "    display: none;\n",
              "    fill: var(--fill-color);\n",
              "    height: 32px;\n",
              "    padding: 0;\n",
              "    width: 32px;\n",
              "  }\n",
              "\n",
              "  .colab-df-quickchart:hover {\n",
              "    background-color: var(--hover-bg-color);\n",
              "    box-shadow: 0 1px 2px rgba(60, 64, 67, 0.3), 0 1px 3px 1px rgba(60, 64, 67, 0.15);\n",
              "    fill: var(--button-hover-fill-color);\n",
              "  }\n",
              "\n",
              "  .colab-df-quickchart-complete:disabled,\n",
              "  .colab-df-quickchart-complete:disabled:hover {\n",
              "    background-color: var(--disabled-bg-color);\n",
              "    fill: var(--disabled-fill-color);\n",
              "    box-shadow: none;\n",
              "  }\n",
              "\n",
              "  .colab-df-spinner {\n",
              "    border: 2px solid var(--fill-color);\n",
              "    border-color: transparent;\n",
              "    border-bottom-color: var(--fill-color);\n",
              "    animation:\n",
              "      spin 1s steps(1) infinite;\n",
              "  }\n",
              "\n",
              "  @keyframes spin {\n",
              "    0% {\n",
              "      border-color: transparent;\n",
              "      border-bottom-color: var(--fill-color);\n",
              "      border-left-color: var(--fill-color);\n",
              "    }\n",
              "    20% {\n",
              "      border-color: transparent;\n",
              "      border-left-color: var(--fill-color);\n",
              "      border-top-color: var(--fill-color);\n",
              "    }\n",
              "    30% {\n",
              "      border-color: transparent;\n",
              "      border-left-color: var(--fill-color);\n",
              "      border-top-color: var(--fill-color);\n",
              "      border-right-color: var(--fill-color);\n",
              "    }\n",
              "    40% {\n",
              "      border-color: transparent;\n",
              "      border-right-color: var(--fill-color);\n",
              "      border-top-color: var(--fill-color);\n",
              "    }\n",
              "    60% {\n",
              "      border-color: transparent;\n",
              "      border-right-color: var(--fill-color);\n",
              "    }\n",
              "    80% {\n",
              "      border-color: transparent;\n",
              "      border-right-color: var(--fill-color);\n",
              "      border-bottom-color: var(--fill-color);\n",
              "    }\n",
              "    90% {\n",
              "      border-color: transparent;\n",
              "      border-bottom-color: var(--fill-color);\n",
              "    }\n",
              "  }\n",
              "</style>\n",
              "\n",
              "  <script>\n",
              "    async function quickchart(key) {\n",
              "      const quickchartButtonEl =\n",
              "        document.querySelector('#' + key + ' button');\n",
              "      quickchartButtonEl.disabled = true;  // To prevent multiple clicks.\n",
              "      quickchartButtonEl.classList.add('colab-df-spinner');\n",
              "      try {\n",
              "        const charts = await google.colab.kernel.invokeFunction(\n",
              "            'suggestCharts', [key], {});\n",
              "      } catch (error) {\n",
              "        console.error('Error during call to suggestCharts:', error);\n",
              "      }\n",
              "      quickchartButtonEl.classList.remove('colab-df-spinner');\n",
              "      quickchartButtonEl.classList.add('colab-df-quickchart-complete');\n",
              "    }\n",
              "    (() => {\n",
              "      let quickchartButtonEl =\n",
              "        document.querySelector('#df-ebefd035-6d2f-4268-9e2f-ebff16481c77 button');\n",
              "      quickchartButtonEl.style.display =\n",
              "        google.colab.kernel.accessAllowed ? 'block' : 'none';\n",
              "    })();\n",
              "  </script>\n",
              "</div>\n",
              "    </div>\n",
              "  </div>\n"
            ]
          },
          "metadata": {},
          "execution_count": 4
        }
      ]
    },
    {
      "cell_type": "code",
      "source": [
        "\n",
        "train_set = dataset_train.iloc[:,1:2].values"
      ],
      "metadata": {
        "id": "ONeM8Jv1kw3Q"
      },
      "execution_count": 5,
      "outputs": []
    },
    {
      "cell_type": "code",
      "source": [
        "\n",
        "type(train_set)"
      ],
      "metadata": {
        "colab": {
          "base_uri": "https://localhost:8080/"
        },
        "id": "THM8HwNYkym4",
        "outputId": "c5b27814-fcf4-4a03-a91f-c6fd17335236"
      },
      "execution_count": 6,
      "outputs": [
        {
          "output_type": "execute_result",
          "data": {
            "text/plain": [
              "numpy.ndarray"
            ]
          },
          "metadata": {},
          "execution_count": 6
        }
      ]
    },
    {
      "cell_type": "code",
      "source": [
        "\n",
        "train_set.shape"
      ],
      "metadata": {
        "colab": {
          "base_uri": "https://localhost:8080/"
        },
        "id": "sjCOi54Zk00p",
        "outputId": "f84bc160-a715-44e3-f521-23649c15f224"
      },
      "execution_count": 7,
      "outputs": [
        {
          "output_type": "execute_result",
          "data": {
            "text/plain": [
              "(1259, 1)"
            ]
          },
          "metadata": {},
          "execution_count": 7
        }
      ]
    },
    {
      "cell_type": "code",
      "source": [
        "\n",
        "sc = MinMaxScaler(feature_range=(0,1))\n",
        "training_set_scaled = sc.fit_transform(train_set)"
      ],
      "metadata": {
        "id": "_MgkBsjfk2gc"
      },
      "execution_count": 8,
      "outputs": []
    },
    {
      "cell_type": "code",
      "source": [
        "\n",
        "training_set_scaled.shape"
      ],
      "metadata": {
        "colab": {
          "base_uri": "https://localhost:8080/"
        },
        "id": "7g9s-Co7k4Kc",
        "outputId": "4273751f-42ca-4493-e892-1b3f73c2db3f"
      },
      "execution_count": 9,
      "outputs": [
        {
          "output_type": "execute_result",
          "data": {
            "text/plain": [
              "(1259, 1)"
            ]
          },
          "metadata": {},
          "execution_count": 9
        }
      ]
    },
    {
      "cell_type": "code",
      "source": [
        "X_train_array = []\n",
        "y_train_array = []\n",
        "for i in range(60, 1259):\n",
        "  X_train_array.append(training_set_scaled[i-60:i,0])\n",
        "  y_train_array.append(training_set_scaled[i,0])\n",
        "X_train, y_train = np.array(X_train_array), np.array(y_train_array)\n",
        "X_train1 = X_train.reshape((X_train.shape[0], X_train.shape[1],1))"
      ],
      "metadata": {
        "id": "c_wEHSREk6Zm"
      },
      "execution_count": 10,
      "outputs": []
    },
    {
      "cell_type": "code",
      "source": [
        "X_train.shape"
      ],
      "metadata": {
        "colab": {
          "base_uri": "https://localhost:8080/"
        },
        "id": "d-kvgKU-lTdl",
        "outputId": "a9c0f44c-4912-426f-fc6b-42fac0dfd058"
      },
      "execution_count": 11,
      "outputs": [
        {
          "output_type": "execute_result",
          "data": {
            "text/plain": [
              "(1199, 60)"
            ]
          },
          "metadata": {},
          "execution_count": 11
        }
      ]
    },
    {
      "cell_type": "code",
      "source": [
        "\n",
        "length = 60\n",
        "n_features = 1"
      ],
      "metadata": {
        "id": "q5nGrqs8lWXD"
      },
      "execution_count": 12,
      "outputs": []
    },
    {
      "cell_type": "code",
      "source": [
        "\n",
        "model = Sequential()\n",
        "model.add(layers.SimpleRNN(10,input_shape=(60,1)))\n",
        "model.add(layers.Dense(1))\n",
        "model.compile(optimizer='adam', loss='mse')"
      ],
      "metadata": {
        "id": "Rv9zll4-lYNW"
      },
      "execution_count": 13,
      "outputs": []
    },
    {
      "cell_type": "code",
      "source": [
        "\n",
        "model.summary()"
      ],
      "metadata": {
        "colab": {
          "base_uri": "https://localhost:8080/"
        },
        "id": "yBJ3vrnUlZ6g",
        "outputId": "1bc6dee4-ac5c-40ef-f591-bd87db5d1366"
      },
      "execution_count": 14,
      "outputs": [
        {
          "output_type": "stream",
          "name": "stdout",
          "text": [
            "Model: \"sequential\"\n",
            "_________________________________________________________________\n",
            " Layer (type)                Output Shape              Param #   \n",
            "=================================================================\n",
            " simple_rnn (SimpleRNN)      (None, 10)                120       \n",
            "                                                                 \n",
            " dense (Dense)               (None, 1)                 11        \n",
            "                                                                 \n",
            "=================================================================\n",
            "Total params: 131 (524.00 Byte)\n",
            "Trainable params: 131 (524.00 Byte)\n",
            "Non-trainable params: 0 (0.00 Byte)\n",
            "_________________________________________________________________\n"
          ]
        }
      ]
    },
    {
      "cell_type": "code",
      "source": [
        "\n",
        "model.fit(X_train1,y_train,epochs=100, batch_size=32)"
      ],
      "metadata": {
        "colab": {
          "base_uri": "https://localhost:8080/"
        },
        "id": "W9ufar9hlbi3",
        "outputId": "c457b76b-276a-4c8f-900a-c61ec338de73"
      },
      "execution_count": 15,
      "outputs": [
        {
          "output_type": "stream",
          "name": "stdout",
          "text": [
            "Epoch 1/100\n",
            "38/38 [==============================] - 2s 11ms/step - loss: 0.7943\n",
            "Epoch 2/100\n",
            "38/38 [==============================] - 0s 11ms/step - loss: 0.2048\n",
            "Epoch 3/100\n",
            "38/38 [==============================] - 0s 9ms/step - loss: 0.0787\n",
            "Epoch 4/100\n",
            "38/38 [==============================] - 0s 9ms/step - loss: 0.0297\n",
            "Epoch 5/100\n",
            "38/38 [==============================] - 0s 9ms/step - loss: 0.0172\n",
            "Epoch 6/100\n",
            "38/38 [==============================] - 0s 10ms/step - loss: 0.0118\n",
            "Epoch 7/100\n",
            "38/38 [==============================] - 0s 9ms/step - loss: 0.0086\n",
            "Epoch 8/100\n",
            "38/38 [==============================] - 0s 9ms/step - loss: 0.0066\n",
            "Epoch 9/100\n",
            "38/38 [==============================] - 0s 9ms/step - loss: 0.0051\n",
            "Epoch 10/100\n",
            "38/38 [==============================] - 0s 11ms/step - loss: 0.0042\n",
            "Epoch 11/100\n",
            "38/38 [==============================] - 0s 10ms/step - loss: 0.0034\n",
            "Epoch 12/100\n",
            "38/38 [==============================] - 0s 11ms/step - loss: 0.0029\n",
            "Epoch 13/100\n",
            "38/38 [==============================] - 0s 11ms/step - loss: 0.0025\n",
            "Epoch 14/100\n",
            "38/38 [==============================] - 0s 9ms/step - loss: 0.0021\n",
            "Epoch 15/100\n",
            "38/38 [==============================] - 0s 9ms/step - loss: 0.0019\n",
            "Epoch 16/100\n",
            "38/38 [==============================] - 1s 14ms/step - loss: 0.0017\n",
            "Epoch 17/100\n",
            "38/38 [==============================] - 1s 17ms/step - loss: 0.0015\n",
            "Epoch 18/100\n",
            "38/38 [==============================] - 1s 16ms/step - loss: 0.0014\n",
            "Epoch 19/100\n",
            "38/38 [==============================] - 1s 16ms/step - loss: 0.0012\n",
            "Epoch 20/100\n",
            "38/38 [==============================] - 1s 14ms/step - loss: 0.0011\n",
            "Epoch 21/100\n",
            "38/38 [==============================] - 0s 13ms/step - loss: 0.0010\n",
            "Epoch 22/100\n",
            "38/38 [==============================] - 0s 10ms/step - loss: 9.8025e-04\n",
            "Epoch 23/100\n",
            "38/38 [==============================] - 0s 9ms/step - loss: 8.9968e-04\n",
            "Epoch 24/100\n",
            "38/38 [==============================] - 0s 9ms/step - loss: 8.3794e-04\n",
            "Epoch 25/100\n",
            "38/38 [==============================] - 0s 9ms/step - loss: 7.8519e-04\n",
            "Epoch 26/100\n",
            "38/38 [==============================] - 0s 9ms/step - loss: 7.3826e-04\n",
            "Epoch 27/100\n",
            "38/38 [==============================] - 0s 10ms/step - loss: 6.9467e-04\n",
            "Epoch 28/100\n",
            "38/38 [==============================] - 0s 10ms/step - loss: 6.5686e-04\n",
            "Epoch 29/100\n",
            "38/38 [==============================] - 0s 10ms/step - loss: 6.2201e-04\n",
            "Epoch 30/100\n",
            "38/38 [==============================] - 0s 10ms/step - loss: 5.8973e-04\n",
            "Epoch 31/100\n",
            "38/38 [==============================] - 0s 11ms/step - loss: 5.6430e-04\n",
            "Epoch 32/100\n",
            "38/38 [==============================] - 0s 10ms/step - loss: 5.3977e-04\n",
            "Epoch 33/100\n",
            "38/38 [==============================] - 0s 9ms/step - loss: 5.1691e-04\n",
            "Epoch 34/100\n",
            "38/38 [==============================] - 0s 9ms/step - loss: 4.9579e-04\n",
            "Epoch 35/100\n",
            "38/38 [==============================] - 0s 9ms/step - loss: 4.7567e-04\n",
            "Epoch 36/100\n",
            "38/38 [==============================] - 0s 9ms/step - loss: 4.6173e-04\n",
            "Epoch 37/100\n",
            "38/38 [==============================] - 0s 9ms/step - loss: 4.4626e-04\n",
            "Epoch 38/100\n",
            "38/38 [==============================] - 0s 9ms/step - loss: 4.2733e-04\n",
            "Epoch 39/100\n",
            "38/38 [==============================] - 0s 9ms/step - loss: 4.1518e-04\n",
            "Epoch 40/100\n",
            "38/38 [==============================] - 0s 10ms/step - loss: 4.0373e-04\n",
            "Epoch 41/100\n",
            "38/38 [==============================] - 0s 9ms/step - loss: 3.9367e-04\n",
            "Epoch 42/100\n",
            "38/38 [==============================] - 0s 9ms/step - loss: 3.8073e-04\n",
            "Epoch 43/100\n",
            "38/38 [==============================] - 0s 10ms/step - loss: 3.7480e-04\n",
            "Epoch 44/100\n",
            "38/38 [==============================] - 0s 10ms/step - loss: 3.6913e-04\n",
            "Epoch 45/100\n",
            "38/38 [==============================] - 0s 11ms/step - loss: 3.6247e-04\n",
            "Epoch 46/100\n",
            "38/38 [==============================] - 0s 9ms/step - loss: 3.5369e-04\n",
            "Epoch 47/100\n",
            "38/38 [==============================] - 0s 10ms/step - loss: 3.5201e-04\n",
            "Epoch 48/100\n",
            "38/38 [==============================] - 1s 16ms/step - loss: 3.3954e-04\n",
            "Epoch 49/100\n",
            "38/38 [==============================] - 1s 16ms/step - loss: 3.3526e-04\n",
            "Epoch 50/100\n",
            "38/38 [==============================] - 1s 15ms/step - loss: 3.3192e-04\n",
            "Epoch 51/100\n",
            "38/38 [==============================] - 1s 15ms/step - loss: 3.3087e-04\n",
            "Epoch 52/100\n",
            "38/38 [==============================] - 1s 16ms/step - loss: 3.2554e-04\n",
            "Epoch 53/100\n",
            "38/38 [==============================] - 1s 14ms/step - loss: 3.2020e-04\n",
            "Epoch 54/100\n",
            "38/38 [==============================] - 0s 10ms/step - loss: 3.1643e-04\n",
            "Epoch 55/100\n",
            "38/38 [==============================] - 0s 10ms/step - loss: 3.2678e-04\n",
            "Epoch 56/100\n",
            "38/38 [==============================] - 0s 11ms/step - loss: 3.1717e-04\n",
            "Epoch 57/100\n",
            "38/38 [==============================] - 0s 10ms/step - loss: 3.2385e-04\n",
            "Epoch 58/100\n",
            "38/38 [==============================] - 0s 10ms/step - loss: 3.0653e-04\n",
            "Epoch 59/100\n",
            "38/38 [==============================] - 0s 9ms/step - loss: 3.0519e-04\n",
            "Epoch 60/100\n",
            "38/38 [==============================] - 0s 9ms/step - loss: 3.0291e-04\n",
            "Epoch 61/100\n",
            "38/38 [==============================] - 0s 9ms/step - loss: 3.1097e-04\n",
            "Epoch 62/100\n",
            "38/38 [==============================] - 0s 9ms/step - loss: 3.0111e-04\n",
            "Epoch 63/100\n",
            "38/38 [==============================] - 0s 10ms/step - loss: 3.1099e-04\n",
            "Epoch 64/100\n",
            "38/38 [==============================] - 0s 10ms/step - loss: 2.9835e-04\n",
            "Epoch 65/100\n",
            "38/38 [==============================] - 0s 9ms/step - loss: 2.9705e-04\n",
            "Epoch 66/100\n",
            "38/38 [==============================] - 0s 9ms/step - loss: 2.9322e-04\n",
            "Epoch 67/100\n",
            "38/38 [==============================] - 0s 10ms/step - loss: 3.0732e-04\n",
            "Epoch 68/100\n",
            "38/38 [==============================] - 0s 10ms/step - loss: 2.9475e-04\n",
            "Epoch 69/100\n",
            "38/38 [==============================] - 0s 10ms/step - loss: 2.9431e-04\n",
            "Epoch 70/100\n",
            "38/38 [==============================] - 0s 9ms/step - loss: 2.8956e-04\n",
            "Epoch 71/100\n",
            "38/38 [==============================] - 0s 9ms/step - loss: 2.8923e-04\n",
            "Epoch 72/100\n",
            "38/38 [==============================] - 0s 8ms/step - loss: 2.8820e-04\n",
            "Epoch 73/100\n",
            "38/38 [==============================] - 0s 9ms/step - loss: 2.9035e-04\n",
            "Epoch 74/100\n",
            "38/38 [==============================] - 0s 9ms/step - loss: 2.8219e-04\n",
            "Epoch 75/100\n",
            "38/38 [==============================] - 0s 9ms/step - loss: 2.9035e-04\n",
            "Epoch 76/100\n",
            "38/38 [==============================] - 0s 9ms/step - loss: 2.8036e-04\n",
            "Epoch 77/100\n",
            "38/38 [==============================] - 0s 10ms/step - loss: 2.8350e-04\n",
            "Epoch 78/100\n",
            "38/38 [==============================] - 0s 9ms/step - loss: 2.8481e-04\n",
            "Epoch 79/100\n",
            "38/38 [==============================] - 0s 10ms/step - loss: 2.7585e-04\n",
            "Epoch 80/100\n",
            "38/38 [==============================] - 0s 10ms/step - loss: 2.7438e-04\n",
            "Epoch 81/100\n",
            "38/38 [==============================] - 1s 17ms/step - loss: 2.7509e-04\n",
            "Epoch 82/100\n",
            "38/38 [==============================] - 1s 15ms/step - loss: 2.7381e-04\n",
            "Epoch 83/100\n",
            "38/38 [==============================] - 1s 14ms/step - loss: 2.7200e-04\n",
            "Epoch 84/100\n",
            "38/38 [==============================] - 1s 14ms/step - loss: 2.7027e-04\n",
            "Epoch 85/100\n",
            "38/38 [==============================] - 1s 15ms/step - loss: 2.6989e-04\n",
            "Epoch 86/100\n",
            "38/38 [==============================] - 1s 14ms/step - loss: 2.6977e-04\n",
            "Epoch 87/100\n",
            "38/38 [==============================] - 0s 9ms/step - loss: 2.6739e-04\n",
            "Epoch 88/100\n",
            "38/38 [==============================] - 0s 9ms/step - loss: 2.6667e-04\n",
            "Epoch 89/100\n",
            "38/38 [==============================] - 0s 10ms/step - loss: 2.6577e-04\n",
            "Epoch 90/100\n",
            "38/38 [==============================] - 0s 11ms/step - loss: 2.7327e-04\n",
            "Epoch 91/100\n",
            "38/38 [==============================] - 0s 10ms/step - loss: 2.6682e-04\n",
            "Epoch 92/100\n",
            "38/38 [==============================] - 0s 9ms/step - loss: 2.6096e-04\n",
            "Epoch 93/100\n",
            "38/38 [==============================] - 0s 9ms/step - loss: 2.5942e-04\n",
            "Epoch 94/100\n",
            "38/38 [==============================] - 0s 8ms/step - loss: 2.6104e-04\n",
            "Epoch 95/100\n",
            "38/38 [==============================] - 0s 9ms/step - loss: 2.5710e-04\n",
            "Epoch 96/100\n",
            "38/38 [==============================] - 0s 9ms/step - loss: 2.5711e-04\n",
            "Epoch 97/100\n",
            "38/38 [==============================] - 0s 9ms/step - loss: 2.5851e-04\n",
            "Epoch 98/100\n",
            "38/38 [==============================] - 0s 9ms/step - loss: 2.6447e-04\n",
            "Epoch 99/100\n",
            "38/38 [==============================] - 0s 8ms/step - loss: 2.5292e-04\n",
            "Epoch 100/100\n",
            "38/38 [==============================] - 0s 9ms/step - loss: 2.5360e-04\n"
          ]
        },
        {
          "output_type": "execute_result",
          "data": {
            "text/plain": [
              "<keras.src.callbacks.History at 0x78eda4bf54b0>"
            ]
          },
          "metadata": {},
          "execution_count": 15
        }
      ]
    },
    {
      "cell_type": "code",
      "source": [
        "\n",
        "dataset_test = pd.read_csv('testset.csv')"
      ],
      "metadata": {
        "id": "W5cLZR-Qldfy"
      },
      "execution_count": 16,
      "outputs": []
    },
    {
      "cell_type": "code",
      "source": [
        "\n",
        "test_set = dataset_test.iloc[:,1:2].values"
      ],
      "metadata": {
        "id": "U_ruY6SIlf9j"
      },
      "execution_count": 17,
      "outputs": []
    },
    {
      "cell_type": "code",
      "source": [
        "\n",
        "test_set.shape"
      ],
      "metadata": {
        "colab": {
          "base_uri": "https://localhost:8080/"
        },
        "id": "cNc9SWMGlila",
        "outputId": "ae0f83aa-dc1b-48d2-89fb-9225555f08da"
      },
      "execution_count": 18,
      "outputs": [
        {
          "output_type": "execute_result",
          "data": {
            "text/plain": [
              "(125, 1)"
            ]
          },
          "metadata": {},
          "execution_count": 18
        }
      ]
    },
    {
      "cell_type": "code",
      "source": [
        "\n",
        "dataset_total = pd.concat((dataset_train['Open'],dataset_test['Open']),axis=0)"
      ],
      "metadata": {
        "id": "KUmKF9iwlj_O"
      },
      "execution_count": 19,
      "outputs": []
    },
    {
      "cell_type": "code",
      "source": [
        "\n",
        "inputs = dataset_total.values\n",
        "inputs = inputs.reshape(-1,1)\n",
        "inputs_scaled=sc.transform(inputs)\n",
        "X_test = []\n",
        "for i in range(60,1384):\n",
        "  X_test.append(inputs_scaled[i-60:i,0])\n",
        "X_test = np.array(X_test)\n",
        "X_test = np.reshape(X_test,(X_test.shape[0], X_test.shape[1],1))\n"
      ],
      "metadata": {
        "id": "QczkIoXXllOQ"
      },
      "execution_count": 20,
      "outputs": []
    },
    {
      "cell_type": "code",
      "source": [
        "\n",
        "X_test.shape\n"
      ],
      "metadata": {
        "colab": {
          "base_uri": "https://localhost:8080/"
        },
        "id": "FB-MoFwQlmrf",
        "outputId": "41f843bd-a64b-4cc6-f49e-7625d73969b4"
      },
      "execution_count": 21,
      "outputs": [
        {
          "output_type": "execute_result",
          "data": {
            "text/plain": [
              "(1324, 60, 1)"
            ]
          },
          "metadata": {},
          "execution_count": 21
        }
      ]
    },
    {
      "cell_type": "code",
      "source": [
        "\n",
        "predicted_stock_price_scaled = model.predict(X_test)\n",
        "predicted_stock_price = sc.inverse_transform(predicted_stock_price_scaled)"
      ],
      "metadata": {
        "colab": {
          "base_uri": "https://localhost:8080/"
        },
        "id": "BATBrPH6loD3",
        "outputId": "d0563b50-8657-40d6-ef38-05b0b072bd08"
      },
      "execution_count": 22,
      "outputs": [
        {
          "output_type": "stream",
          "name": "stdout",
          "text": [
            "42/42 [==============================] - 0s 4ms/step\n"
          ]
        }
      ]
    },
    {
      "cell_type": "code",
      "source": [
        "\n",
        "plt.plot(np.arange(0,1384),inputs, color='red', label = 'Test(Real) Google stock price')\n",
        "plt.plot(np.arange(60,1384),predicted_stock_price, color='blue', label = 'Predicted Google stock price')\n",
        "plt.title('Google Stock Price Prediction')\n",
        "plt.xlabel('Time')\n",
        "plt.ylabel('Google Stock Price')\n",
        "plt.legend()\n",
        "plt.show()"
      ],
      "metadata": {
        "colab": {
          "base_uri": "https://localhost:8080/",
          "height": 472
        },
        "id": "GqIOnrkAlp5X",
        "outputId": "63d25f3a-3a01-4802-b442-85e0536392fc"
      },
      "execution_count": 23,
      "outputs": [
        {
          "output_type": "display_data",
          "data": {
            "text/plain": [
              "<Figure size 640x480 with 1 Axes>"
            ],
            "image/png": "[encoded data removed]"
          },
          "metadata": {}
        }
      ]
    },
    {
      "cell_type": "code",
      "source": [],
      "metadata": {
        "id": "hBF-kdFBlqa1"
      },
      "execution_count": null,
      "outputs": []
    }
  ]
}